{
 "cells": [
  {
   "cell_type": "code",
   "execution_count": 1,
   "id": "09c60f27",
   "metadata": {},
   "outputs": [],
   "source": [
    "import random"
   ]
  },
  {
   "cell_type": "code",
   "execution_count": 9,
   "id": "7365ce01",
   "metadata": {},
   "outputs": [],
   "source": [
    "def get_weight(n): #가중치 설정\n",
    "    weight= [random.uniform(-1,1) for i in range(n)]\n",
    "    return weight\n",
    "\n",
    "def calculate_sum(weight, input_data, bias): #퍼셉트론 계산\n",
    "    calculated_sum = sum([weight[i] * input_data[i] for i in range(len(input_data))]) + bias\n",
    "    \n",
    "    if calculated_sum>=0: #0기준으로 분류\n",
    "        return 1\n",
    "    else:\n",
    "        return 0\n",
    "    \n",
    "def get_train_data(n): #AND 게이트에 사용되는 n개의 input과 target 생성\n",
    "    data=[]\n",
    "    for i in range(2**n): # \n",
    "        input_data=[]\n",
    "        target_data=1\n",
    "        for j in range(n):\n",
    "            x=(i>>j)&1 # 오른쪽 비트부터 1개씩 추출\n",
    "            input_data.append(x)\n",
    "            target_data = target_data & x # 전부 1이면 1 하나라도 아니면 0\n",
    "        data.append((input_data,target_data))\n",
    "    return data\n",
    "\n",
    "def train(train_data,iteration_max = 1000): #학습과정, 반복 최대는 1000회\n",
    "    learning_rate=0.1 #learning_rate 설정\n",
    "    bias = random.uniform(-1,1) # 초기 bias 무작위로 생성\n",
    "    weight = get_weight(len(train_data[0][0])) # n개의 weight 무작위 생성\n",
    "\n",
    "    for iter in range(iteration_max):\n",
    "        cnt=0\n",
    "        for input_data, target_data in train_data:\n",
    "            pred = calculate_sum(weight,input_data,bias)\n",
    "            error = target_data-pred\n",
    "\n",
    "            for i in range(len(weight)):\n",
    "                weight[i] += error*learning_rate*input_data[i] # 가중치 조정\n",
    "            bias += error* learning_rate # bias 조정\n",
    "            if error != 0: # error값이 0이 아니면 잘못 예측한 것이므로 cnt값 증가\n",
    "                cnt += 1\n",
    "        if cnt ==0:\n",
    "            print(\"총 {0}회 반복\".format(iter+1)) #cnt==0이 될때까지 몇번 반복했는지 출력\n",
    "            break\n",
    "    return weight,bias\n",
    "\n",
    "def test(result_weight, result_bias): # test 데이터에 대한 예측 데이터 출력\n",
    "    n = len(result_weight)\n",
    "    for i in range(2 ** n):\n",
    "        test_data = []\n",
    "        for j in range(n):\n",
    "            x = (i >> j) & 1\n",
    "            test_data.append(x)\n",
    "        print(\"테스트 {0} -> 결과 {1}\".format(test_data, calculate_sum(result_weight, test_data, \n",
    "result_bias)))\n"
   ]
  },
  {
   "cell_type": "code",
   "execution_count": null,
   "id": "96924ec5",
   "metadata": {},
   "outputs": [],
   "source": [
    "n= int(input(\"n=\"))\n",
    "train_data = get_train_data(n)\n",
    "\n",
    "result_weight, result_bias = train(train_data)\n",
    "print(\"구해진 weight:\",result_weight)\n",
    "print(\"구해진 bias:\", result_bias)\n",
    "\n",
    "test(result_weight, result_bias)"
   ]
  },
  {
   "cell_type": "code",
   "execution_count": null,
   "id": "88fae069",
   "metadata": {},
   "outputs": [],
   "source": []
  }
 ],
 "metadata": {
  "kernelspec": {
   "display_name": "Python 3 (ipykernel)",
   "language": "python",
   "name": "python3"
  },
  "language_info": {
   "codemirror_mode": {
    "name": "ipython",
    "version": 3
   },
   "file_extension": ".py",
   "mimetype": "text/x-python",
   "name": "python",
   "nbconvert_exporter": "python",
   "pygments_lexer": "ipython3",
   "version": "3.9.13"
  }
 },
 "nbformat": 4,
 "nbformat_minor": 5
}
